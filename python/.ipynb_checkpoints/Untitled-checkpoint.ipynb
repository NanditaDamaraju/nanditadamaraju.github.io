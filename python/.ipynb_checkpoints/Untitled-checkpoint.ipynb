{
 "cells": [
  {
   "cell_type": "code",
   "execution_count": 1,
   "metadata": {
    "collapsed": true
   },
   "outputs": [],
   "source": [
    "import csv\n",
    "import xmltodict\n",
    "import requests\n",
    "import urllib"
   ]
  },
  {
   "cell_type": "code",
   "execution_count": 2,
   "metadata": {
    "collapsed": false
   },
   "outputs": [],
   "source": [
    "url = \"https://www.goodreads.com/review/list/16616412.xml?key=QR0LkdMVxjzao8LMW5ZNSQ&shelf=read&page=\"\n",
    "url2 = \"https://www.goodreads.com/review/show_by_user_and_book.xml?book_id=\"\n",
    "url3 = \"&key=QR0LkdMVxjzao8LMW5ZNSQ&include_review_on_work:true&user_id=16616412\""
   ]
  },
  {
   "cell_type": "code",
   "execution_count": 3,
   "metadata": {
    "collapsed": false
   },
   "outputs": [],
   "source": [
    "response = requests.get(url)"
   ]
  },
  {
   "cell_type": "code",
   "execution_count": 4,
   "metadata": {
    "collapsed": false
   },
   "outputs": [],
   "source": [
    "books = xmltodict.parse(response.content)\n",
    "books = books['GoodreadsResponse']['books']['book']"
   ]
  },
  {
   "cell_type": "code",
   "execution_count": 24,
   "metadata": {
    "collapsed": false,
    "scrolled": false
   },
   "outputs": [
    {
     "name": "stdout",
     "output_type": "stream",
     "text": [
      "Chaos Monkeys: Obscene Fortune and Random Failure in Silicon Valley\n"
     ]
    },
    {
     "ename": "UnicodeEncodeError",
     "evalue": "'ascii' codec can't encode character u'\\xed' in position 108: ordinal not in range(128)",
     "output_type": "error",
     "traceback": [
      "\u001b[0;31m---------------------------------------------------------------------------\u001b[0m",
      "\u001b[0;31mUnicodeEncodeError\u001b[0m                        Traceback (most recent call last)",
      "\u001b[0;32m<ipython-input-24-08beb49c6775>\u001b[0m in \u001b[0;36m<module>\u001b[0;34m()\u001b[0m\n\u001b[1;32m     25\u001b[0m             \u001b[0murllib\u001b[0m\u001b[0;34m.\u001b[0m\u001b[0murlretrieve\u001b[0m\u001b[0;34m(\u001b[0m\u001b[0mbook\u001b[0m\u001b[0;34m[\u001b[0m\u001b[0;34m'image_url'\u001b[0m\u001b[0;34m]\u001b[0m\u001b[0;34m,\u001b[0m \u001b[0;34m\"../assets/img/books/\"\u001b[0m \u001b[0;34m+\u001b[0m \u001b[0mbook\u001b[0m\u001b[0;34m[\u001b[0m\u001b[0;34m'id'\u001b[0m\u001b[0;34m]\u001b[0m\u001b[0;34m[\u001b[0m\u001b[0;34m'#text'\u001b[0m\u001b[0;34m]\u001b[0m \u001b[0;34m+\u001b[0m \u001b[0;34m'.jpg'\u001b[0m\u001b[0;34m)\u001b[0m\u001b[0;34m\u001b[0m\u001b[0m\n\u001b[1;32m     26\u001b[0m \u001b[0;34m\u001b[0m\u001b[0m\n\u001b[0;32m---> 27\u001b[0;31m             \u001b[0mf\u001b[0m\u001b[0;34m.\u001b[0m\u001b[0mwrite\u001b[0m\u001b[0;34m(\u001b[0m\u001b[0;34mu\"---\\nlayout: post\\ntitle: %s, by %s             \\ntags: [Test, Markdown]\\nfeature-img: \\\"assets/img/pexels/book-dark.jpg\\\"             \\nimg: \\\"assets/img/books/%s.jpg  \\\"\\n---\\n             \\n<a href= \\\"%s\\\" style= \\\"float: left; padding-right: 20px\\\"><img border=\\\"0\\\" alt= \\\"%s\\\" src= \\\"%s\\\" /></a>\"\u001b[0m\u001b[0;34m.\u001b[0m\u001b[0mencode\u001b[0m\u001b[0;34m(\u001b[0m\u001b[0;34m'utf-8)'\u001b[0m\u001b[0;34m)\u001b[0m             \u001b[0;34m%\u001b[0m\u001b[0;34m(\u001b[0m \u001b[0mbook\u001b[0m\u001b[0;34m[\u001b[0m\u001b[0;34m'title'\u001b[0m\u001b[0;34m]\u001b[0m\u001b[0;34m.\u001b[0m\u001b[0mreplace\u001b[0m\u001b[0;34m(\u001b[0m\u001b[0;34m\":\"\u001b[0m\u001b[0;34m,\u001b[0m \u001b[0;34m\",\"\u001b[0m\u001b[0;34m)\u001b[0m\u001b[0;34m,\u001b[0m \u001b[0mbook\u001b[0m\u001b[0;34m[\u001b[0m\u001b[0;34m'authors'\u001b[0m\u001b[0;34m]\u001b[0m\u001b[0;34m[\u001b[0m\u001b[0;34m'author'\u001b[0m\u001b[0;34m]\u001b[0m\u001b[0;34m[\u001b[0m\u001b[0;34m'name'\u001b[0m\u001b[0;34m]\u001b[0m\u001b[0;34m,\u001b[0m\u001b[0mbook\u001b[0m\u001b[0;34m[\u001b[0m\u001b[0;34m'id'\u001b[0m\u001b[0;34m]\u001b[0m\u001b[0;34m[\u001b[0m\u001b[0;34m'#text'\u001b[0m\u001b[0;34m]\u001b[0m \u001b[0;34m,\u001b[0m               \u001b[0mbook\u001b[0m\u001b[0;34m[\u001b[0m\u001b[0;34m'link'\u001b[0m\u001b[0;34m]\u001b[0m\u001b[0;34m,\u001b[0m \u001b[0mbook\u001b[0m\u001b[0;34m[\u001b[0m\u001b[0;34m'title'\u001b[0m\u001b[0;34m]\u001b[0m\u001b[0;34m,\u001b[0m \u001b[0mbook\u001b[0m\u001b[0;34m[\u001b[0m\u001b[0;34m'image_url'\u001b[0m\u001b[0;34m]\u001b[0m\u001b[0;34m)\u001b[0m\u001b[0;34m)\u001b[0m\u001b[0;34m\u001b[0m\u001b[0m\n\u001b[0m\u001b[1;32m     28\u001b[0m \u001b[0;34m\u001b[0m\u001b[0m\n\u001b[1;32m     29\u001b[0m             \u001b[0mf\u001b[0m\u001b[0;34m.\u001b[0m\u001b[0mwrite\u001b[0m\u001b[0;34m(\u001b[0m\u001b[0;34m\"<a href=\\\"%s\\\">%s</a> by <a href=\\\"%s\\\">%s</a><br/> My rating: <a href=\\\"%s\\\"> %s of 5 stars</a><br /><br />\\n\\n\\n\"\u001b[0m             \u001b[0;34m%\u001b[0m\u001b[0;34m(\u001b[0m\u001b[0mbook\u001b[0m\u001b[0;34m[\u001b[0m\u001b[0;34m'link'\u001b[0m\u001b[0;34m]\u001b[0m\u001b[0;34m,\u001b[0m \u001b[0mbook\u001b[0m\u001b[0;34m[\u001b[0m\u001b[0;34m'title'\u001b[0m\u001b[0;34m]\u001b[0m\u001b[0;34m,\u001b[0m\u001b[0mbook\u001b[0m\u001b[0;34m[\u001b[0m\u001b[0;34m'authors'\u001b[0m\u001b[0;34m]\u001b[0m\u001b[0;34m[\u001b[0m\u001b[0;34m'author'\u001b[0m\u001b[0;34m]\u001b[0m\u001b[0;34m[\u001b[0m\u001b[0;34m'link'\u001b[0m\u001b[0;34m]\u001b[0m\u001b[0;34m,\u001b[0m               \u001b[0mbook\u001b[0m\u001b[0;34m[\u001b[0m\u001b[0;34m'authors'\u001b[0m\u001b[0;34m]\u001b[0m\u001b[0;34m[\u001b[0m\u001b[0;34m'author'\u001b[0m\u001b[0;34m]\u001b[0m\u001b[0;34m[\u001b[0m\u001b[0;34m'name'\u001b[0m\u001b[0;34m]\u001b[0m\u001b[0;34m,\u001b[0m\u001b[0mreview\u001b[0m\u001b[0;34m[\u001b[0m\u001b[0;34mu'GoodreadsResponse'\u001b[0m\u001b[0;34m]\u001b[0m\u001b[0;34m[\u001b[0m\u001b[0;34m'review'\u001b[0m\u001b[0;34m]\u001b[0m\u001b[0;34m[\u001b[0m\u001b[0;34m'link'\u001b[0m\u001b[0;34m]\u001b[0m\u001b[0;34m,\u001b[0m               \u001b[0mreview\u001b[0m\u001b[0;34m[\u001b[0m\u001b[0;34mu'GoodreadsResponse'\u001b[0m\u001b[0;34m]\u001b[0m\u001b[0;34m[\u001b[0m\u001b[0;34m'review'\u001b[0m\u001b[0;34m]\u001b[0m\u001b[0;34m[\u001b[0m\u001b[0;34m'rating'\u001b[0m\u001b[0;34m]\u001b[0m\u001b[0;34m)\u001b[0m\u001b[0;34m)\u001b[0m\u001b[0;34m\u001b[0m\u001b[0m\n",
      "\u001b[0;31mUnicodeEncodeError\u001b[0m: 'ascii' codec can't encode character u'\\xed' in position 108: ordinal not in range(128)"
     ]
    }
   ],
   "source": [
    "for i in range(2,6):\n",
    "    \n",
    "    #get url for the book\n",
    "    urlc = url + str(i)\n",
    "    response = requests.get(urlc)\n",
    "    books = xmltodict.parse(response.content)\n",
    "    books = books['GoodreadsResponse']['books']['book']\n",
    "    \n",
    "    #parse books in url response\n",
    "    for book in books:\n",
    "        \n",
    "        #get url for review\n",
    "        urlc = url2 + book['id']['#text'] + url3\n",
    "        response = requests.get(urlc)\n",
    "        review = xmltodict.parse(response.content)\n",
    "        content = review[u'GoodreadsResponse']['review']['body']\n",
    "        #save directly to .md file\n",
    "        f = open(\"../_books/\" + book['id']['#text'] + \".md\", \"w\")\n",
    "        \n",
    "        \n",
    "        #\n",
    "        if content is not None:\n",
    "        \n",
    "            print book['title']\n",
    "            urllib.urlretrieve(book['image_url'], \"../assets/img/books/\" + book['id']['#text'] + '.jpg')\n",
    "\n",
    "            f.write(\"---\\nlayout: post\\ntitle: %s, by %s \\\n",
    "            \\ntags: [Test, Markdown]\\nfeature-img: \\\"assets/img/pexels/book-dark.jpg\\\" \\\n",
    "            \\nimg: \\\"assets/img/books/%s.jpg  \\\"\\n---\\n \\\n",
    "            \\n<a href= \\\"%s\\\" style= \\\"float: left; padding-right: 20px\\\"><img border=\\\"0\\\" \\\n",
    "alt= \\\"%s\\\" src= \\\"%s\\\" /></a>\") \\\n",
    "            %( book['title'].replace(\":\", \",\"), book['authors']['author']['name'].replace('é',e),book['id']['#text'] , \\\n",
    "              book['link'], book['title'], book['image_url']))\n",
    "            \n",
    "            f.write(\"<a href=\\\"%s\\\">%s</a> by <a href=\\\"%s\\\">%s</a><br/> \\\n",
    "My rating: <a href=\\\"%s\\\"> %s of 5 stars</a><br /><br />\\n\\n\\n\" \\\n",
    "            %(book['link'], book['title'],book['authors']['author']['link'], \\\n",
    "              book['authors']['author']['name'],review[u'GoodreadsResponse']['review']['link'], \\\n",
    "              review[u'GoodreadsResponse']['review']['rating'])) \n",
    "            \n",
    "            f.write(content.encode(\"utf8\"))\n",
    "            \n",
    "            f.write(\"\\n\\n<br/><br/><a href=\\\"https://www.goodreads.com/review/list/16616412-nandita-damaraju\\\n",
    "\\\">View all my reviews</a>\")\n",
    "            \n",
    "        f.close()"
   ]
  },
  {
   "cell_type": "code",
   "execution_count": 15,
   "metadata": {
    "collapsed": false
   },
   "outputs": [
    {
     "data": {
      "text/plain": [
       "OrderedDict([(u'GoodreadsResponse',\n",
       "              OrderedDict([(u'Request',\n",
       "                            OrderedDict([(u'authentication', u'true'),\n",
       "                                         (u'key', u'QR0LkdMVxjzao8LMW5ZNSQ'),\n",
       "                                         (u'method',\n",
       "                                          u'review_show_by_user_and_book')])),\n",
       "                           (u'review',\n",
       "                            OrderedDict([(u'id', u'2355819503'),\n",
       "                                         (u'user',\n",
       "                                          OrderedDict([(u'id', u'16616412'),\n",
       "                                                       (u'uri',\n",
       "                                                        u'kca://profile:goodreads/A28422BPJ3LQ9Y'),\n",
       "                                                       (u'name', u'Nandita'),\n",
       "                                                       (u'display_name',\n",
       "                                                        u'Nandita Damaraju'),\n",
       "                                                       (u'location',\n",
       "                                                        u'Palo Alto, CA'),\n",
       "                                                       (u'link',\n",
       "                                                        u'https://www.goodreads.com/user/show/16616412-nandita-damaraju'),\n",
       "                                                       (u'image_url',\n",
       "                                                        u'https://images.gr-assets.com/users/1517358076p3/16616412.jpg'),\n",
       "                                                       (u'small_image_url',\n",
       "                                                        u'https://images.gr-assets.com/users/1517358076p2/16616412.jpg'),\n",
       "                                                       (u'has_image',\n",
       "                                                        u'true')])),\n",
       "                                         (u'book',\n",
       "                                          OrderedDict([(u'id',\n",
       "                                                        OrderedDict([(u'@type',\n",
       "                                                                      u'integer'),\n",
       "                                                                     ('#text',\n",
       "                                                                      u'30267604')])),\n",
       "                                                       (u'isbn',\n",
       "                                                        u'014311168X'),\n",
       "                                                       (u'isbn13',\n",
       "                                                        u'9780143111689'),\n",
       "                                                       (u'text_reviews_count',\n",
       "                                                        OrderedDict([(u'@type',\n",
       "                                                                      u'integer'),\n",
       "                                                                     ('#text',\n",
       "                                                                      u'540')])),\n",
       "                                                       (u'uri',\n",
       "                                                        u'kca://book/amzn1.gr.book.v1.1MJg8_YJ0sUUSZ0nSgkHfw'),\n",
       "                                                       (u'title',\n",
       "                                                        u'Ghachar Ghochar'),\n",
       "                                                       (u'title_without_series',\n",
       "                                                        u'Ghachar Ghochar'),\n",
       "                                                       (u'image_url',\n",
       "                                                        u'https://images.gr-assets.com/books/1481656773m/30267604.jpg'),\n",
       "                                                       (u'small_image_url',\n",
       "                                                        u'https://images.gr-assets.com/books/1481656773s/30267604.jpg'),\n",
       "                                                       (u'large_image_url',\n",
       "                                                        None),\n",
       "                                                       (u'link',\n",
       "                                                        u'https://www.goodreads.com/book/show/30267604-ghachar-ghochar'),\n",
       "                                                       (u'num_pages', u'118'),\n",
       "                                                       (u'format',\n",
       "                                                        u'Paperback'),\n",
       "                                                       (u'edition_information',\n",
       "                                                        None),\n",
       "                                                       (u'publisher',\n",
       "                                                        u'Penguin Books'),\n",
       "                                                       (u'publication_day',\n",
       "                                                        u'7'),\n",
       "                                                       (u'publication_year',\n",
       "                                                        u'2017'),\n",
       "                                                       (u'publication_month',\n",
       "                                                        u'2'),\n",
       "                                                       (u'average_rating',\n",
       "                                                        u'3.92'),\n",
       "                                                       (u'ratings_count',\n",
       "                                                        u'4822'),\n",
       "                                                       (u'description',\n",
       "                                                        u\"A young man's close-knit family is nearly destitute when his uncle founds a successful spice company, changing their fortunes overnight. As they move from a cramped, ant-infested shack to a larger house on the other side of Bangalore, and try to adjust to a new way of life, the family dynamic begins to shift. Allegiances realign; marriages are arranged and begin to falter; and conflict brews ominously in the background. Things become \\u201cghachar ghochar\\u201d\\u2014a nonsense phrase uttered by one meaning something tangled beyond repair, a knot that can't be untied. <br /><br />Elegantly written and punctuated by moments of unexpected warmth and humor, Ghachar Ghochar is a quietly enthralling, deeply unsettling novel about the shifting meanings\\u2014and consequences\\u2014of financial gain in contemporary India.\"),\n",
       "                                                       (u'authors',\n",
       "                                                        OrderedDict([(u'author',\n",
       "                                                                      OrderedDict([(u'id',\n",
       "                                                                                    u'787768'),\n",
       "                                                                                   (u'name',\n",
       "                                                                                    u'Vivek Shanbhag'),\n",
       "                                                                                   (u'role',\n",
       "                                                                                    None),\n",
       "                                                                                   (u'image_url',\n",
       "                                                                                    OrderedDict([(u'@nophoto',\n",
       "                                                                                                  u'true'),\n",
       "                                                                                                 ('#text',\n",
       "                                                                                                  u'https://s.gr-assets.com/assets/nophoto/user/m_200x266-d279b33f8eec0f27b7272477f09806be.png')])),\n",
       "                                                                                   (u'small_image_url',\n",
       "                                                                                    OrderedDict([(u'@nophoto',\n",
       "                                                                                                  u'true'),\n",
       "                                                                                                 ('#text',\n",
       "                                                                                                  u'https://s.gr-assets.com/assets/nophoto/user/m_50x66-82093808bca726cb3249a493fbd3bd0f.png')])),\n",
       "                                                                                   (u'link',\n",
       "                                                                                    u'https://www.goodreads.com/author/show/787768.Vivek_Shanbhag'),\n",
       "                                                                                   (u'average_rating',\n",
       "                                                                                    u'3.92'),\n",
       "                                                                                   (u'ratings_count',\n",
       "                                                                                    u'5049'),\n",
       "                                                                                   (u'text_reviews_count',\n",
       "                                                                                    u'825')]))])),\n",
       "                                                       (u'published', u'2017'),\n",
       "                                                       (u'work',\n",
       "                                                        OrderedDict([(u'id',\n",
       "                                                                      u'48269617'),\n",
       "                                                                     (u'uri',\n",
       "                                                                      u'kca://work/amzn1.gr.work.v1.wDebL60XYCod5xe6wYH2gA')]))])),\n",
       "                                         (u'read_statuses',\n",
       "                                          OrderedDict([(u'read_status',\n",
       "                                                        [OrderedDict([(u'id',\n",
       "                                                                       OrderedDict([(u'@type',\n",
       "                                                                                     u'integer'),\n",
       "                                                                                    ('#text',\n",
       "                                                                                     u'2385207514')])),\n",
       "                                                                      (u'old_status',\n",
       "                                                                       u'to-read'),\n",
       "                                                                      (u'status',\n",
       "                                                                       u'read'),\n",
       "                                                                      (u'updated_at',\n",
       "                                                                       OrderedDict([(u'@type',\n",
       "                                                                                     u'datetime'),\n",
       "                                                                                    ('#text',\n",
       "                                                                                     u'Thu Jun 07 20:49:05 -0700 2018')])),\n",
       "                                                                      (u'ratings_count',\n",
       "                                                                       u'0'),\n",
       "                                                                      (u'comments_count',\n",
       "                                                                       u'0')]),\n",
       "                                                         OrderedDict([(u'id',\n",
       "                                                                       OrderedDict([(u'@type',\n",
       "                                                                                     u'integer'),\n",
       "                                                                                    ('#text',\n",
       "                                                                                     u'2303703040')])),\n",
       "                                                                      (u'old_status',\n",
       "                                                                       None),\n",
       "                                                                      (u'status',\n",
       "                                                                       u'to-read'),\n",
       "                                                                      (u'updated_at',\n",
       "                                                                       OrderedDict([(u'@type',\n",
       "                                                                                     u'datetime'),\n",
       "                                                                                    ('#text',\n",
       "                                                                                     u'Mon Apr 09 08:39:03 -0700 2018')])),\n",
       "                                                                      (u'ratings_count',\n",
       "                                                                       u'0'),\n",
       "                                                                      (u'comments_count',\n",
       "                                                                       u'0')])])])),\n",
       "                                         (u'rating', u'4'),\n",
       "                                         (u'votes', u'0'),\n",
       "                                         (u'spoiler_flag', u'false'),\n",
       "                                         (u'spoilers_state', u'none'),\n",
       "                                         (u'shelves',\n",
       "                                          OrderedDict([(u'shelf',\n",
       "                                                        OrderedDict([(u'@name',\n",
       "                                                                      u'read'),\n",
       "                                                                     (u'@exclusive',\n",
       "                                                                      u'true'),\n",
       "                                                                     (u'@id',\n",
       "                                                                      u'53216362'),\n",
       "                                                                     (u'@review_shelf_id',\n",
       "                                                                      u'')]))])),\n",
       "                                         (u'recommended_for', None),\n",
       "                                         (u'recommended_by', None),\n",
       "                                         (u'started_at', None),\n",
       "                                         (u'read_at', None),\n",
       "                                         (u'date_added',\n",
       "                                          u'Mon Apr 09 08:39:02 -0700 2018'),\n",
       "                                         (u'date_updated',\n",
       "                                          u'Thu Jun 07 20:49:09 -0700 2018'),\n",
       "                                         (u'read_count', u'1'),\n",
       "                                         (u'body', None),\n",
       "                                         (u'comments_count', u'0'),\n",
       "                                         (u'url',\n",
       "                                          u'https://www.goodreads.com/review/show/2355819503'),\n",
       "                                         (u'link',\n",
       "                                          u'https://www.goodreads.com/review/show/2355819503'),\n",
       "                                         (u'owned', u'0')]))]))])"
      ]
     },
     "execution_count": 15,
     "metadata": {},
     "output_type": "execute_result"
    }
   ],
   "source": [
    "review"
   ]
  },
  {
   "cell_type": "code",
   "execution_count": null,
   "metadata": {
    "collapsed": true
   },
   "outputs": [],
   "source": []
  }
 ],
 "metadata": {
  "kernelspec": {
   "display_name": "Python 2",
   "language": "python",
   "name": "python2"
  },
  "language_info": {
   "codemirror_mode": {
    "name": "ipython",
    "version": 2
   },
   "file_extension": ".py",
   "mimetype": "text/x-python",
   "name": "python",
   "nbconvert_exporter": "python",
   "pygments_lexer": "ipython2",
   "version": "2.7.10"
  }
 },
 "nbformat": 4,
 "nbformat_minor": 1
}
